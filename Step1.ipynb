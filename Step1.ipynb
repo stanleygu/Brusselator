{
 "metadata": {
  "signature": "sha256:fdafa4ea3683184fccfade27a5a4953bd7032fb28af42100b9c156cb930a92f2"
 },
 "nbformat": 3,
 "nbformat_minor": 0,
 "worksheets": [
  {
   "cells": [
    {
     "cell_type": "code",
     "collapsed": false,
     "input": [
      "import tellurium as te\n",
      "\n",
      "model = '''\n",
      "model step1(compartment_, R1_k1, A, X)\n",
      "    R1: $A => X; compartment_*R1_k1*A;\n",
      "end\n",
      "'''\n"
     ],
     "language": "python",
     "metadata": {},
     "outputs": []
    }
   ],
   "metadata": {}
  }
 ]
}