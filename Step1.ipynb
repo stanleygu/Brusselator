{
 "metadata": {
  "signature": "sha256:508d54e31ac8565492ad7cec124d0b3c80c7b7aabbc45e22172726c34d132abb"
 },
 "nbformat": 3,
 "nbformat_minor": 0,
 "worksheets": [
  {
   "cells": [
    {
     "cell_type": "code",
     "collapsed": false,
     "input": [
      "model = '''\n",
      "model step1(compartment_, R1_k1, A, X)\n",
      "    R: $A => X; compartment_*R1_k1*A;\n",
      "end\n",
      "'''\n",
      "\n",
      "test = model + '''\n",
      "model test\n",
      "    R: step1(c, k1, A, X)\n",
      "    \n",
      "    c = 1; k1 = 1;\n",
      "    A = 3; X = 0.5;\n",
      "end\n",
      "'''"
     ],
     "language": "python",
     "metadata": {},
     "outputs": [],
     "prompt_number": 7
    },
    {
     "cell_type": "code",
     "collapsed": false,
     "input": [
      "import tellurium as te\n",
      "\n",
      "r = te.loada(test)\n",
      "result = r.simulate()\n",
      "te.plotWithLegend(r, result)"
     ],
     "language": "python",
     "metadata": {},
     "outputs": [
      {
       "metadata": {},
       "output_type": "display_data",
       "png": "[encoded data removed]",
       "text": [
        "<matplotlib.figure.Figure at 0x2f20990>"
       ]
      },
      {
       "metadata": {},
       "output_type": "pyout",
       "prompt_number": 8,
       "text": [
        "<module 'matplotlib.pyplot' from '/usr/lib/pymodules/python2.7/matplotlib/pyplot.pyc'>"
       ]
      }
     ],
     "prompt_number": 8
    }
   ],
   "metadata": {}
  }
 ]
}