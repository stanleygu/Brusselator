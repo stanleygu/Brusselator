{
 "metadata": {
  "signature": "sha256:47cb51f3bfbe81811aab033a6bfea0b0bf313c1afb300496010ca94fe4ecc68c"
 },
 "nbformat": 3,
 "nbformat_minor": 0,
 "worksheets": [
  {
   "cells": [
    {
     "cell_type": "code",
     "collapsed": false,
     "input": [
      "import tellurium as te\n",
      "\n",
      "model = '''\n",
      "model step1(compartment_, R1_k1, A)\n",
      "    R1: $A => X; compartment_*R1_k1*A;\n",
      "end\n",
      "'''\n"
     ],
     "language": "python",
     "metadata": {},
     "outputs": []
    }
   ],
   "metadata": {}
  }
 ]
}