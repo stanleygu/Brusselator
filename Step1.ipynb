{
 "metadata": {
  "signature": "sha256:39bb83b3de71abccdd5048141fe6bf39dccf3b00547b01ef6a03b88d93462f15"
 },
 "nbformat": 3,
 "nbformat_minor": 0,
 "worksheets": [
  {
   "cells": [
    {
     "cell_type": "code",
     "collapsed": false,
     "input": [
      "import tellurium as te\n",
      "\n",
      "model = '''\n",
      "model step1(compartment_, R1_k1, A, X)\n",
      "    R: $A => X; compartment_*R1_k1*A;\n",
      "end\n",
      "'''\n"
     ],
     "language": "python",
     "metadata": {},
     "outputs": []
    }
   ],
   "metadata": {}
  }
 ]
}