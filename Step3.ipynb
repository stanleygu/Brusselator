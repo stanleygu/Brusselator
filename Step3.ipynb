{
 "metadata": {
  "signature": "sha256:1fc59d9f220aa24b86bbc17fb372f04b7929e5a66531243a8dfd0b8ed1dc1fed"
 },
 "nbformat": 3,
 "nbformat_minor": 0,
 "worksheets": [
  {
   "cells": [
    {
     "cell_type": "code",
     "collapsed": false,
     "input": [
      "model = '''\n",
      "model step3(compartment_, R3_k1, X, B, Y, D)\n",
      "    R: X + $B => Y + $D; compartment_*R3_k1*X*B;\n",
      "end\n",
      "'''"
     ],
     "language": "python",
     "metadata": {},
     "outputs": []
    }
   ],
   "metadata": {}
  }
 ]
}