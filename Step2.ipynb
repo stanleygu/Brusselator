{
 "metadata": {
  "signature": "sha256:f2f91e0b85269c8f6ee6fc5ba59999041fad9af8fcb6a1ee40aefb6b843aabf5"
 },
 "nbformat": 3,
 "nbformat_minor": 0,
 "worksheets": [
  {
   "cells": [
    {
     "cell_type": "code",
     "collapsed": false,
     "input": [
      "model = '''\n",
      "model step2(compartment_, R2_k1, X, Y)\n",
      "    R: 2X + Y => 3X; compartment_*R2_k1*X^2*Y;\n",
      "end\n",
      "'''"
     ],
     "language": "python",
     "metadata": {},
     "outputs": []
    }
   ],
   "metadata": {}
  }
 ]
}